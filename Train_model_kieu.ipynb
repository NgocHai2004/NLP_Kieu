{
 "cells": [
  {
   "cell_type": "markdown",
   "metadata": {
    "id": "KkCfVGrT6jGq"
   },
   "source": [
    "Tải bộ dữ liệu về"
   ]
  },
  {
   "cell_type": "code",
   "execution_count": 1,
   "metadata": {
    "colab": {
     "base_uri": "https://localhost:8080/"
    },
    "executionInfo": {
     "elapsed": 310,
     "status": "ok",
     "timestamp": 1748855610797,
     "user": {
      "displayName": "hải nguyễn ngọc",
      "userId": "12132261945915910408"
     },
     "user_tz": -420
    },
    "id": "KRJnsa4j6h21",
    "outputId": "867d363a-96b7-4e3f-e7f2-94cb1c90ec40"
   },
   "outputs": [
    {
     "name": "stdout",
     "output_type": "stream",
     "text": [
      "--2025-06-02 09:13:31--  https://gist.githubusercontent.com/khacanh/4c4662fa226db87a4664dfc2f70bc63e/raw/5d8a1d890c73a1e92e6898137db28f3dc0676975/kieu.txt\n",
      "Resolving gist.githubusercontent.com (gist.githubusercontent.com)... 185.199.108.133, 185.199.109.133, 185.199.110.133, ...\n",
      "Connecting to gist.githubusercontent.com (gist.githubusercontent.com)|185.199.108.133|:443... connected.\n",
      "HTTP request sent, awaiting response... 200 OK\n",
      "Length: 135832 (133K) [text/plain]\n",
      "Saving to: ‘./kieu.txt’\n",
      "\n",
      "\r./kieu.txt            0%[                    ]       0  --.-KB/s               \r./kieu.txt          100%[===================>] 132.65K  --.-KB/s    in 0.02s   \n",
      "\n",
      "2025-06-02 09:13:31 (5.89 MB/s) - ‘./kieu.txt’ saved [135832/135832]\n",
      "\n"
     ]
    }
   ],
   "source": [
    "!wget --no-check-certificate \\\n",
    "    https://gist.githubusercontent.com/khacanh/4c4662fa226db87a4664dfc2f70bc63e/raw/5d8a1d890c73a1e92e6898137db28f3dc0676975/kieu.txt \\\n",
    "    -O ./kieu.txt"
   ]
  },
  {
   "cell_type": "markdown",
   "metadata": {
    "id": "32Yby3O46w1T"
   },
   "source": [
    "Gán 1 biến cho file txt mới tạo\n"
   ]
  },
  {
   "cell_type": "code",
   "execution_count": null,
   "metadata": {
    "executionInfo": {
     "elapsed": 6,
     "status": "ok",
     "timestamp": 1748855698904,
     "user": {
      "displayName": "hải nguyễn ngọc",
      "userId": "12132261945915910408"
     },
     "user_tz": -420
    },
    "id": "Bl3jjfPq6vJr"
   },
   "outputs": [],
   "source": [
    "corpus = []\n",
    "f = open(\"kieu.txt\", \"r\")\n",
    "for line in f:\n",
    "  corpus.append(line)"
   ]
  },
  {
   "cell_type": "code",
   "execution_count": 3,
   "metadata": {
    "executionInfo": {
     "elapsed": 2261,
     "status": "ok",
     "timestamp": 1748855729205,
     "user": {
      "displayName": "hải nguyễn ngọc",
      "userId": "12132261945915910408"
     },
     "user_tz": -420
    },
    "id": "f9AUEKXK6vXC"
   },
   "outputs": [],
   "source": [
    "import string as pystring\n",
    "from nltk import everygrams"
   ]
  },
  {
   "cell_type": "markdown",
   "metadata": {
    "id": "wqTiGofP7bMb"
   },
   "source": [
    "Bỏ dấu thừa và khoảng trắng thừa"
   ]
  },
  {
   "cell_type": "code",
   "execution_count": 4,
   "metadata": {
    "colab": {
     "base_uri": "https://localhost:8080/",
     "height": 36
    },
    "executionInfo": {
     "elapsed": 55,
     "status": "ok",
     "timestamp": 1748855821282,
     "user": {
      "displayName": "hải nguyễn ngọc",
      "userId": "12132261945915910408"
     },
     "user_tz": -420
    },
    "id": "opngXxfD6vaz",
    "outputId": "66303585-78b8-41e5-857e-a5dc6040ecce"
   },
   "outputs": [
    {
     "data": {
      "application/vnd.google.colaboratory.intrinsic+json": {
       "type": "string"
      },
      "text/plain": [
       "'trăm năm trong cõi người ta'"
      ]
     },
     "execution_count": 4,
     "metadata": {},
     "output_type": "execute_result"
    }
   ],
   "source": [
    "PUNCT_TO_REMOVE = pystring.punctuation + pystring.digits + \"\\n\"\n",
    "def clean_text(text):\n",
    "    \"\"\"custom function to removal: punctuations and digits\"\"\"\n",
    "    text = text.translate(str.maketrans(' ', ' ', PUNCT_TO_REMOVE))\n",
    "    text = text.lower()\n",
    "    return text\n",
    "clean_text(corpus[0])"
   ]
  },
  {
   "cell_type": "markdown",
   "metadata": {
    "id": "ywqDi9Nu63Uk"
   },
   "source": [
    "Chữ kèm với label sau nó và mỗi câu có 1 label tương ứng"
   ]
  },
  {
   "cell_type": "code",
   "execution_count": 5,
   "metadata": {
    "executionInfo": {
     "elapsed": 20,
     "status": "ok",
     "timestamp": 1748855871557,
     "user": {
      "displayName": "hải nguyễn ngọc",
      "userId": "12132261945915910408"
     },
     "user_tz": -420
    },
    "id": "VB2u6huD6vdK"
   },
   "outputs": [],
   "source": [
    "def get_contexts_and_labels(corpus):\n",
    "    contexts, labels = [], []\n",
    "    for line in corpus:\n",
    "        line = clean_text(line)\n",
    "        line = line.split()\n",
    "        if len(line) < 2:\n",
    "            continue\n",
    "        ngrams = list(everygrams(line, min_len=2, max_len=len(line)))\n",
    "        for gram in ngrams:\n",
    "            context = \" \".join(list(gram[:-1]))\n",
    "            label = gram[-1]\n",
    "            contexts.append(context)\n",
    "            labels.append(label)\n",
    "    return contexts, labels"
   ]
  },
  {
   "cell_type": "code",
   "execution_count": 6,
   "metadata": {
    "colab": {
     "base_uri": "https://localhost:8080/"
    },
    "executionInfo": {
     "elapsed": 54,
     "status": "ok",
     "timestamp": 1748855889605,
     "user": {
      "displayName": "hải nguyễn ngọc",
      "userId": "12132261945915910408"
     },
     "user_tz": -420
    },
    "id": "x_yAZvL56vfi",
    "outputId": "f79d5864-b9e9-49c4-b0b5-3316b6ea23f6"
   },
   "outputs": [
    {
     "data": {
      "text/plain": [
       "(['trăm',\n",
       "  'trăm năm',\n",
       "  'trăm năm trong',\n",
       "  'trăm năm trong cõi',\n",
       "  'trăm năm trong cõi người'],\n",
       " ['năm', 'trong', 'cõi', 'người', 'ta'])"
      ]
     },
     "execution_count": 6,
     "metadata": {},
     "output_type": "execute_result"
    }
   ],
   "source": [
    "contexts, labels = get_contexts_and_labels(corpus)\n",
    "contexts[:5], labels[:5]"
   ]
  },
  {
   "cell_type": "code",
   "execution_count": 7,
   "metadata": {
    "colab": {
     "base_uri": "https://localhost:8080/"
    },
    "executionInfo": {
     "elapsed": 18,
     "status": "ok",
     "timestamp": 1748855900601,
     "user": {
      "displayName": "hải nguyễn ngọc",
      "userId": "12132261945915910408"
     },
     "user_tz": -420
    },
    "id": "iX_WjNjy7x18",
    "outputId": "25106b93-6451-46b4-d077-82d588fe4f84"
   },
   "outputs": [
    {
     "data": {
      "text/plain": [
       "(69961, 69961)"
      ]
     },
     "execution_count": 7,
     "metadata": {},
     "output_type": "execute_result"
    }
   ],
   "source": [
    "len(contexts), len(labels)"
   ]
  },
  {
   "cell_type": "code",
   "execution_count": 10,
   "metadata": {
    "executionInfo": {
     "elapsed": 134,
     "status": "ok",
     "timestamp": 1748856130287,
     "user": {
      "displayName": "hải nguyễn ngọc",
      "userId": "12132261945915910408"
     },
     "user_tz": -420
    },
    "id": "iB01EPMR8r6j"
   },
   "outputs": [],
   "source": [
    "from sklearn.model_selection import train_test_split\n",
    "\n",
    "train_sentences, valid_sentences, train_labels, valid_labels = train_test_split(contexts, labels, test_size=0.2, random_state=42)"
   ]
  },
  {
   "cell_type": "code",
   "execution_count": 11,
   "metadata": {
    "executionInfo": {
     "elapsed": 7,
     "status": "ok",
     "timestamp": 1748856131759,
     "user": {
      "displayName": "hải nguyễn ngọc",
      "userId": "12132261945915910408"
     },
     "user_tz": -420
    },
    "id": "1rmucPAj71NE"
   },
   "outputs": [],
   "source": [
    "import tensorflow as tf\n",
    "import numpy as np\n",
    "from tensorflow.keras.preprocessing.text import Tokenizer\n",
    "from tensorflow.keras.preprocessing.sequence import pad_sequences\n",
    "from tensorflow.keras.utils import to_categorical"
   ]
  },
  {
   "cell_type": "code",
   "execution_count": 12,
   "metadata": {
    "executionInfo": {
     "elapsed": 396,
     "status": "ok",
     "timestamp": 1748856133843,
     "user": {
      "displayName": "hải nguyễn ngọc",
      "userId": "12132261945915910408"
     },
     "user_tz": -420
    },
    "id": "qd_KQYWR72-_"
   },
   "outputs": [],
   "source": [
    "tokenizer = Tokenizer(oov_token='<OOV>')\n",
    "tokenizer.fit_on_texts(train_sentences)"
   ]
  },
  {
   "cell_type": "code",
   "execution_count": 15,
   "metadata": {
    "colab": {
     "base_uri": "https://localhost:8080/"
    },
    "executionInfo": {
     "elapsed": 21,
     "status": "ok",
     "timestamp": 1748856426407,
     "user": {
      "displayName": "hải nguyễn ngọc",
      "userId": "12132261945915910408"
     },
     "user_tz": -420
    },
    "id": "k4dcOOqM8SFa",
    "outputId": "5507d1cb-ffb5-454c-a4da-6206c91ca85c"
   },
   "outputs": [
    {
     "data": {
      "text/plain": [
       "7"
      ]
     },
     "execution_count": 15,
     "metadata": {},
     "output_type": "execute_result"
    }
   ],
   "source": [
    "vocab_size = len(tokenizer.index_word) + 1\n",
    "embedding_dim = 200\n",
    "max_length = max([len(context.split()) for context in contexts])\n",
    "max_length"
   ]
  },
  {
   "cell_type": "code",
   "execution_count": 16,
   "metadata": {
    "executionInfo": {
     "elapsed": 716,
     "status": "ok",
     "timestamp": 1748856429812,
     "user": {
      "displayName": "hải nguyễn ngọc",
      "userId": "12132261945915910408"
     },
     "user_tz": -420
    },
    "id": "IVBx1xeV8SaL"
   },
   "outputs": [],
   "source": [
    "train_seq = tokenizer.texts_to_sequences(train_sentences)\n",
    "train_seq_pad = pad_sequences(train_seq, maxlen=max_length, truncating='post', padding=\"post\")\n",
    "\n",
    "valid_seq = tokenizer.texts_to_sequences(valid_sentences)\n",
    "valid_seq_pad = pad_sequences(valid_seq, maxlen=max_length, truncating='post', padding=\"post\")"
   ]
  },
  {
   "cell_type": "code",
   "execution_count": 18,
   "metadata": {
    "executionInfo": {
     "elapsed": 13,
     "status": "ok",
     "timestamp": 1748856464539,
     "user": {
      "displayName": "hải nguyễn ngọc",
      "userId": "12132261945915910408"
     },
     "user_tz": -420
    },
    "id": "4ylyyEry98JL"
   },
   "outputs": [],
   "source": [
    "def convert_labels(labels):\n",
    "    convert_labels = []\n",
    "    for label in labels:\n",
    "        if label in tokenizer.index_word.values():\n",
    "            convert_labels.append(to_categorical( tokenizer.word_index[label], len(tokenizer.word_index)+1))\n",
    "        else:\n",
    "            convert_labels.append(to_categorical( tokenizer.word_index[\"<OOV>\"], len(tokenizer.word_index)+1))\n",
    "    return convert_labels"
   ]
  },
  {
   "cell_type": "code",
   "execution_count": 19,
   "metadata": {
    "executionInfo": {
     "elapsed": 2627,
     "status": "ok",
     "timestamp": 1748856468426,
     "user": {
      "displayName": "hải nguyễn ngọc",
      "userId": "12132261945915910408"
     },
     "user_tz": -420
    },
    "id": "m4sAqwz58Scz"
   },
   "outputs": [],
   "source": [
    "train_labels = convert_labels(train_labels)\n",
    "valid_labels = convert_labels(valid_labels)"
   ]
  },
  {
   "cell_type": "code",
   "execution_count": 20,
   "metadata": {
    "executionInfo": {
     "elapsed": 451,
     "status": "ok",
     "timestamp": 1748856471684,
     "user": {
      "displayName": "hải nguyễn ngọc",
      "userId": "12132261945915910408"
     },
     "user_tz": -420
    },
    "id": "hbtS6BJg8SfM"
   },
   "outputs": [],
   "source": [
    "train_labels = np.array(train_labels)\n",
    "valid_labels = np.array(valid_labels)"
   ]
  },
  {
   "cell_type": "code",
   "execution_count": 21,
   "metadata": {
    "executionInfo": {
     "elapsed": 7,
     "status": "ok",
     "timestamp": 1748856474241,
     "user": {
      "displayName": "hải nguyễn ngọc",
      "userId": "12132261945915910408"
     },
     "user_tz": -420
    },
    "id": "VC0uvGUr8Si8"
   },
   "outputs": [],
   "source": [
    "from tensorflow.keras.models import Sequential\n",
    "from tensorflow.keras.layers import Embedding, Flatten, Dense"
   ]
  },
  {
   "cell_type": "code",
   "execution_count": 22,
   "metadata": {
    "colab": {
     "base_uri": "https://localhost:8080/",
     "height": 293
    },
    "executionInfo": {
     "elapsed": 334,
     "status": "ok",
     "timestamp": 1748856478373,
     "user": {
      "displayName": "hải nguyễn ngọc",
      "userId": "12132261945915910408"
     },
     "user_tz": -420
    },
    "id": "azim6FYh8Skq",
    "outputId": "37e0aed8-d172-48e5-da22-57d2ff36be00"
   },
   "outputs": [
    {
     "name": "stderr",
     "output_type": "stream",
     "text": [
      "/usr/local/lib/python3.11/dist-packages/keras/src/layers/core/embedding.py:90: UserWarning: Argument `input_length` is deprecated. Just remove it.\n",
      "  warnings.warn(\n"
     ]
    },
    {
     "data": {
      "text/html": [
       "<pre style=\"white-space:pre;overflow-x:auto;line-height:normal;font-family:Menlo,'DejaVu Sans Mono',consolas,'Courier New',monospace\"><span style=\"font-weight: bold\">Model: \"sequential\"</span>\n",
       "</pre>\n"
      ],
      "text/plain": [
       "\u001b[1mModel: \"sequential\"\u001b[0m\n"
      ]
     },
     "metadata": {},
     "output_type": "display_data"
    },
    {
     "data": {
      "text/html": [
       "<pre style=\"white-space:pre;overflow-x:auto;line-height:normal;font-family:Menlo,'DejaVu Sans Mono',consolas,'Courier New',monospace\">┏━━━━━━━━━━━━━━━━━━━━━━━━━━━━━━━━━┳━━━━━━━━━━━━━━━━━━━━━━━━┳━━━━━━━━━━━━━━━┓\n",
       "┃<span style=\"font-weight: bold\"> Layer (type)                    </span>┃<span style=\"font-weight: bold\"> Output Shape           </span>┃<span style=\"font-weight: bold\">       Param # </span>┃\n",
       "┡━━━━━━━━━━━━━━━━━━━━━━━━━━━━━━━━━╇━━━━━━━━━━━━━━━━━━━━━━━━╇━━━━━━━━━━━━━━━┩\n",
       "│ embedding (<span style=\"color: #0087ff; text-decoration-color: #0087ff\">Embedding</span>)           │ ?                      │   <span style=\"color: #00af00; text-decoration-color: #00af00\">0</span> (unbuilt) │\n",
       "├─────────────────────────────────┼────────────────────────┼───────────────┤\n",
       "│ flatten (<span style=\"color: #0087ff; text-decoration-color: #0087ff\">Flatten</span>)               │ ?                      │   <span style=\"color: #00af00; text-decoration-color: #00af00\">0</span> (unbuilt) │\n",
       "├─────────────────────────────────┼────────────────────────┼───────────────┤\n",
       "│ dense (<span style=\"color: #0087ff; text-decoration-color: #0087ff\">Dense</span>)                   │ ?                      │   <span style=\"color: #00af00; text-decoration-color: #00af00\">0</span> (unbuilt) │\n",
       "├─────────────────────────────────┼────────────────────────┼───────────────┤\n",
       "│ dense_1 (<span style=\"color: #0087ff; text-decoration-color: #0087ff\">Dense</span>)                 │ ?                      │   <span style=\"color: #00af00; text-decoration-color: #00af00\">0</span> (unbuilt) │\n",
       "└─────────────────────────────────┴────────────────────────┴───────────────┘\n",
       "</pre>\n"
      ],
      "text/plain": [
       "┏━━━━━━━━━━━━━━━━━━━━━━━━━━━━━━━━━┳━━━━━━━━━━━━━━━━━━━━━━━━┳━━━━━━━━━━━━━━━┓\n",
       "┃\u001b[1m \u001b[0m\u001b[1mLayer (type)                   \u001b[0m\u001b[1m \u001b[0m┃\u001b[1m \u001b[0m\u001b[1mOutput Shape          \u001b[0m\u001b[1m \u001b[0m┃\u001b[1m \u001b[0m\u001b[1m      Param #\u001b[0m\u001b[1m \u001b[0m┃\n",
       "┡━━━━━━━━━━━━━━━━━━━━━━━━━━━━━━━━━╇━━━━━━━━━━━━━━━━━━━━━━━━╇━━━━━━━━━━━━━━━┩\n",
       "│ embedding (\u001b[38;5;33mEmbedding\u001b[0m)           │ ?                      │   \u001b[38;5;34m0\u001b[0m (unbuilt) │\n",
       "├─────────────────────────────────┼────────────────────────┼───────────────┤\n",
       "│ flatten (\u001b[38;5;33mFlatten\u001b[0m)               │ ?                      │   \u001b[38;5;34m0\u001b[0m (unbuilt) │\n",
       "├─────────────────────────────────┼────────────────────────┼───────────────┤\n",
       "│ dense (\u001b[38;5;33mDense\u001b[0m)                   │ ?                      │   \u001b[38;5;34m0\u001b[0m (unbuilt) │\n",
       "├─────────────────────────────────┼────────────────────────┼───────────────┤\n",
       "│ dense_1 (\u001b[38;5;33mDense\u001b[0m)                 │ ?                      │   \u001b[38;5;34m0\u001b[0m (unbuilt) │\n",
       "└─────────────────────────────────┴────────────────────────┴───────────────┘\n"
      ]
     },
     "metadata": {},
     "output_type": "display_data"
    },
    {
     "data": {
      "text/html": [
       "<pre style=\"white-space:pre;overflow-x:auto;line-height:normal;font-family:Menlo,'DejaVu Sans Mono',consolas,'Courier New',monospace\"><span style=\"font-weight: bold\"> Total params: </span><span style=\"color: #00af00; text-decoration-color: #00af00\">0</span> (0.00 B)\n",
       "</pre>\n"
      ],
      "text/plain": [
       "\u001b[1m Total params: \u001b[0m\u001b[38;5;34m0\u001b[0m (0.00 B)\n"
      ]
     },
     "metadata": {},
     "output_type": "display_data"
    },
    {
     "data": {
      "text/html": [
       "<pre style=\"white-space:pre;overflow-x:auto;line-height:normal;font-family:Menlo,'DejaVu Sans Mono',consolas,'Courier New',monospace\"><span style=\"font-weight: bold\"> Trainable params: </span><span style=\"color: #00af00; text-decoration-color: #00af00\">0</span> (0.00 B)\n",
       "</pre>\n"
      ],
      "text/plain": [
       "\u001b[1m Trainable params: \u001b[0m\u001b[38;5;34m0\u001b[0m (0.00 B)\n"
      ]
     },
     "metadata": {},
     "output_type": "display_data"
    },
    {
     "data": {
      "text/html": [
       "<pre style=\"white-space:pre;overflow-x:auto;line-height:normal;font-family:Menlo,'DejaVu Sans Mono',consolas,'Courier New',monospace\"><span style=\"font-weight: bold\"> Non-trainable params: </span><span style=\"color: #00af00; text-decoration-color: #00af00\">0</span> (0.00 B)\n",
       "</pre>\n"
      ],
      "text/plain": [
       "\u001b[1m Non-trainable params: \u001b[0m\u001b[38;5;34m0\u001b[0m (0.00 B)\n"
      ]
     },
     "metadata": {},
     "output_type": "display_data"
    }
   ],
   "source": [
    "model_nplm = Sequential()\n",
    "model_nplm.add(Embedding(vocab_size, embedding_dim, input_length=max_length))\n",
    "model_nplm.add(Flatten())\n",
    "model_nplm.add(Dense(10, activation='relu'))\n",
    "model_nplm.add(Dense(vocab_size, activation='softmax'))\n",
    "model_nplm.compile(loss='categorical_crossentropy', optimizer='adam', metrics=['accuracy'])\n",
    "model_nplm.summary()"
   ]
  },
  {
   "cell_type": "code",
   "execution_count": 23,
   "metadata": {
    "colab": {
     "base_uri": "https://localhost:8080/"
    },
    "executionInfo": {
     "elapsed": 189901,
     "status": "ok",
     "timestamp": 1748856778721,
     "user": {
      "displayName": "hải nguyễn ngọc",
      "userId": "12132261945915910408"
     },
     "user_tz": -420
    },
    "id": "mcF97X1x9ql0",
    "outputId": "d0ded929-9619-4ceb-dc67-f580ff6abcb0"
   },
   "outputs": [
    {
     "name": "stdout",
     "output_type": "stream",
     "text": [
      "Epoch 1/30\n",
      "\u001b[1m1749/1749\u001b[0m \u001b[32m━━━━━━━━━━━━━━━━━━━━\u001b[0m\u001b[37m\u001b[0m \u001b[1m10s\u001b[0m 4ms/step - accuracy: 0.0115 - loss: 7.0146 - val_accuracy: 0.0169 - val_loss: 6.6972\n",
      "Epoch 2/30\n",
      "\u001b[1m1749/1749\u001b[0m \u001b[32m━━━━━━━━━━━━━━━━━━━━\u001b[0m\u001b[37m\u001b[0m \u001b[1m6s\u001b[0m 3ms/step - accuracy: 0.0170 - loss: 6.6078 - val_accuracy: 0.0207 - val_loss: 6.5787\n",
      "Epoch 3/30\n",
      "\u001b[1m1749/1749\u001b[0m \u001b[32m━━━━━━━━━━━━━━━━━━━━\u001b[0m\u001b[37m\u001b[0m \u001b[1m5s\u001b[0m 3ms/step - accuracy: 0.0237 - loss: 6.4043 - val_accuracy: 0.0274 - val_loss: 6.4126\n",
      "Epoch 4/30\n",
      "\u001b[1m1749/1749\u001b[0m \u001b[32m━━━━━━━━━━━━━━━━━━━━\u001b[0m\u001b[37m\u001b[0m \u001b[1m10s\u001b[0m 3ms/step - accuracy: 0.0395 - loss: 6.1414 - val_accuracy: 0.0388 - val_loss: 6.2443\n",
      "Epoch 5/30\n",
      "\u001b[1m1749/1749\u001b[0m \u001b[32m━━━━━━━━━━━━━━━━━━━━\u001b[0m\u001b[37m\u001b[0m \u001b[1m5s\u001b[0m 3ms/step - accuracy: 0.0576 - loss: 5.8397 - val_accuracy: 0.0517 - val_loss: 6.0963\n",
      "Epoch 6/30\n",
      "\u001b[1m1749/1749\u001b[0m \u001b[32m━━━━━━━━━━━━━━━━━━━━\u001b[0m\u001b[37m\u001b[0m \u001b[1m5s\u001b[0m 3ms/step - accuracy: 0.0764 - loss: 5.5987 - val_accuracy: 0.0607 - val_loss: 6.0290\n",
      "Epoch 7/30\n",
      "\u001b[1m1749/1749\u001b[0m \u001b[32m━━━━━━━━━━━━━━━━━━━━\u001b[0m\u001b[37m\u001b[0m \u001b[1m6s\u001b[0m 3ms/step - accuracy: 0.0915 - loss: 5.3823 - val_accuracy: 0.0682 - val_loss: 5.9268\n",
      "Epoch 8/30\n",
      "\u001b[1m1749/1749\u001b[0m \u001b[32m━━━━━━━━━━━━━━━━━━━━\u001b[0m\u001b[37m\u001b[0m \u001b[1m5s\u001b[0m 3ms/step - accuracy: 0.1060 - loss: 5.2110 - val_accuracy: 0.0763 - val_loss: 5.9104\n",
      "Epoch 9/30\n",
      "\u001b[1m1749/1749\u001b[0m \u001b[32m━━━━━━━━━━━━━━━━━━━━\u001b[0m\u001b[37m\u001b[0m \u001b[1m5s\u001b[0m 3ms/step - accuracy: 0.1218 - loss: 5.0565 - val_accuracy: 0.0785 - val_loss: 5.8580\n",
      "Epoch 10/30\n",
      "\u001b[1m1749/1749\u001b[0m \u001b[32m━━━━━━━━━━━━━━━━━━━━\u001b[0m\u001b[37m\u001b[0m \u001b[1m5s\u001b[0m 3ms/step - accuracy: 0.1339 - loss: 4.9205 - val_accuracy: 0.0849 - val_loss: 5.8740\n",
      "Epoch 11/30\n",
      "\u001b[1m1749/1749\u001b[0m \u001b[32m━━━━━━━━━━━━━━━━━━━━\u001b[0m\u001b[37m\u001b[0m \u001b[1m5s\u001b[0m 3ms/step - accuracy: 0.1456 - loss: 4.8178 - val_accuracy: 0.0853 - val_loss: 5.8811\n",
      "Epoch 12/30\n",
      "\u001b[1m1749/1749\u001b[0m \u001b[32m━━━━━━━━━━━━━━━━━━━━\u001b[0m\u001b[37m\u001b[0m \u001b[1m5s\u001b[0m 3ms/step - accuracy: 0.1544 - loss: 4.7331 - val_accuracy: 0.0909 - val_loss: 5.9132\n",
      "Epoch 13/30\n",
      "\u001b[1m1749/1749\u001b[0m \u001b[32m━━━━━━━━━━━━━━━━━━━━\u001b[0m\u001b[37m\u001b[0m \u001b[1m11s\u001b[0m 3ms/step - accuracy: 0.1624 - loss: 4.6626 - val_accuracy: 0.0905 - val_loss: 5.8842\n",
      "Epoch 14/30\n",
      "\u001b[1m1749/1749\u001b[0m \u001b[32m━━━━━━━━━━━━━━━━━━━━\u001b[0m\u001b[37m\u001b[0m \u001b[1m9s\u001b[0m 3ms/step - accuracy: 0.1679 - loss: 4.6214 - val_accuracy: 0.0933 - val_loss: 5.9766\n",
      "Epoch 15/30\n",
      "\u001b[1m1749/1749\u001b[0m \u001b[32m━━━━━━━━━━━━━━━━━━━━\u001b[0m\u001b[37m\u001b[0m \u001b[1m5s\u001b[0m 3ms/step - accuracy: 0.1780 - loss: 4.5548 - val_accuracy: 0.0943 - val_loss: 5.9867\n",
      "Epoch 16/30\n",
      "\u001b[1m1749/1749\u001b[0m \u001b[32m━━━━━━━━━━━━━━━━━━━━\u001b[0m\u001b[37m\u001b[0m \u001b[1m5s\u001b[0m 3ms/step - accuracy: 0.1801 - loss: 4.5258 - val_accuracy: 0.0958 - val_loss: 6.0123\n",
      "Epoch 17/30\n",
      "\u001b[1m1749/1749\u001b[0m \u001b[32m━━━━━━━━━━━━━━━━━━━━\u001b[0m\u001b[37m\u001b[0m \u001b[1m6s\u001b[0m 3ms/step - accuracy: 0.1892 - loss: 4.4469 - val_accuracy: 0.0949 - val_loss: 6.0925\n",
      "Epoch 18/30\n",
      "\u001b[1m1749/1749\u001b[0m \u001b[32m━━━━━━━━━━━━━━━━━━━━\u001b[0m\u001b[37m\u001b[0m \u001b[1m10s\u001b[0m 3ms/step - accuracy: 0.1933 - loss: 4.4177 - val_accuracy: 0.0958 - val_loss: 6.1018\n",
      "Epoch 19/30\n",
      "\u001b[1m1749/1749\u001b[0m \u001b[32m━━━━━━━━━━━━━━━━━━━━\u001b[0m\u001b[37m\u001b[0m \u001b[1m5s\u001b[0m 3ms/step - accuracy: 0.1994 - loss: 4.3669 - val_accuracy: 0.0972 - val_loss: 6.1644\n",
      "Epoch 20/30\n",
      "\u001b[1m1749/1749\u001b[0m \u001b[32m━━━━━━━━━━━━━━━━━━━━\u001b[0m\u001b[37m\u001b[0m \u001b[1m5s\u001b[0m 3ms/step - accuracy: 0.2015 - loss: 4.3490 - val_accuracy: 0.0938 - val_loss: 6.1914\n",
      "Epoch 21/30\n",
      "\u001b[1m1749/1749\u001b[0m \u001b[32m━━━━━━━━━━━━━━━━━━━━\u001b[0m\u001b[37m\u001b[0m \u001b[1m6s\u001b[0m 3ms/step - accuracy: 0.2106 - loss: 4.3083 - val_accuracy: 0.0938 - val_loss: 6.2409\n",
      "Epoch 22/30\n",
      "\u001b[1m1749/1749\u001b[0m \u001b[32m━━━━━━━━━━━━━━━━━━━━\u001b[0m\u001b[37m\u001b[0m \u001b[1m10s\u001b[0m 3ms/step - accuracy: 0.2074 - loss: 4.2918 - val_accuracy: 0.0945 - val_loss: 6.2720\n",
      "Epoch 23/30\n",
      "\u001b[1m1749/1749\u001b[0m \u001b[32m━━━━━━━━━━━━━━━━━━━━\u001b[0m\u001b[37m\u001b[0m \u001b[1m10s\u001b[0m 3ms/step - accuracy: 0.2141 - loss: 4.2664 - val_accuracy: 0.0979 - val_loss: 6.3818\n",
      "Epoch 24/30\n",
      "\u001b[1m1749/1749\u001b[0m \u001b[32m━━━━━━━━━━━━━━━━━━━━\u001b[0m\u001b[37m\u001b[0m \u001b[1m5s\u001b[0m 3ms/step - accuracy: 0.2174 - loss: 4.2513 - val_accuracy: 0.0952 - val_loss: 6.4246\n",
      "Epoch 25/30\n",
      "\u001b[1m1749/1749\u001b[0m \u001b[32m━━━━━━━━━━━━━━━━━━━━\u001b[0m\u001b[37m\u001b[0m \u001b[1m5s\u001b[0m 3ms/step - accuracy: 0.2195 - loss: 4.2097 - val_accuracy: 0.0939 - val_loss: 6.3852\n",
      "Epoch 26/30\n",
      "\u001b[1m1749/1749\u001b[0m \u001b[32m━━━━━━━━━━━━━━━━━━━━\u001b[0m\u001b[37m\u001b[0m \u001b[1m6s\u001b[0m 3ms/step - accuracy: 0.2211 - loss: 4.2058 - val_accuracy: 0.0930 - val_loss: 6.5962\n",
      "Epoch 27/30\n",
      "\u001b[1m1749/1749\u001b[0m \u001b[32m━━━━━━━━━━━━━━━━━━━━\u001b[0m\u001b[37m\u001b[0m \u001b[1m5s\u001b[0m 3ms/step - accuracy: 0.2231 - loss: 4.1974 - val_accuracy: 0.0941 - val_loss: 6.6529\n",
      "Epoch 28/30\n",
      "\u001b[1m1749/1749\u001b[0m \u001b[32m━━━━━━━━━━━━━━━━━━━━\u001b[0m\u001b[37m\u001b[0m \u001b[1m6s\u001b[0m 3ms/step - accuracy: 0.2279 - loss: 4.1560 - val_accuracy: 0.0938 - val_loss: 6.6944\n",
      "Epoch 29/30\n",
      "\u001b[1m1749/1749\u001b[0m \u001b[32m━━━━━━━━━━━━━━━━━━━━\u001b[0m\u001b[37m\u001b[0m \u001b[1m5s\u001b[0m 3ms/step - accuracy: 0.2289 - loss: 4.1419 - val_accuracy: 0.0903 - val_loss: 6.6127\n",
      "Epoch 30/30\n",
      "\u001b[1m1749/1749\u001b[0m \u001b[32m━━━━━━━━━━━━━━━━━━━━\u001b[0m\u001b[37m\u001b[0m \u001b[1m5s\u001b[0m 3ms/step - accuracy: 0.2322 - loss: 4.1504 - val_accuracy: 0.0933 - val_loss: 6.8473\n"
     ]
    },
    {
     "data": {
      "text/plain": [
       "<keras.src.callbacks.history.History at 0x7b410ed2b910>"
      ]
     },
     "execution_count": 23,
     "metadata": {},
     "output_type": "execute_result"
    }
   ],
   "source": [
    "model_nplm.fit(train_seq_pad, train_labels, epochs=30, validation_data=(valid_seq_pad, valid_labels))"
   ]
  },
  {
   "cell_type": "code",
   "execution_count": 24,
   "metadata": {
    "colab": {
     "base_uri": "https://localhost:8080/"
    },
    "executionInfo": {
     "elapsed": 51,
     "status": "ok",
     "timestamp": 1748856917781,
     "user": {
      "displayName": "hải nguyễn ngọc",
      "userId": "12132261945915910408"
     },
     "user_tz": -420
    },
    "id": "yj2dfPZZ9qn7",
    "outputId": "ef907fde-4edf-4d4a-edbd-d6ad593896a7"
   },
   "outputs": [
    {
     "name": "stderr",
     "output_type": "stream",
     "text": [
      "WARNING:absl:You are saving your model as an HDF5 file via `model.save()` or `keras.saving.save_model(model)`. This file format is considered legacy. We recommend using instead the native Keras format, e.g. `model.save('my_model.keras')` or `keras.saving.save_model(model, 'my_model.keras')`. \n"
     ]
    }
   ],
   "source": [
    "model_nplm.save('model_nplm.h5')"
   ]
  }
 ],
 "metadata": {
  "accelerator": "GPU",
  "colab": {
   "authorship_tag": "ABX9TyM51/lSqOCOp51HZMbYQXPP",
   "gpuType": "T4",
   "provenance": []
  },
  "kernelspec": {
   "display_name": "Python 3",
   "name": "python3"
  },
  "language_info": {
   "name": "python"
  }
 },
 "nbformat": 4,
 "nbformat_minor": 0
}
